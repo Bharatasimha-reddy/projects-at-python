{
 "cells": [
  {
   "cell_type": "code",
   "execution_count": 1,
   "metadata": {},
   "outputs": [
    {
     "name": "stdout",
     "output_type": "stream",
     "text": [
      "Shortest path between cities: \n",
      "537\n"
     ]
    },
    {
     "data": {
      "image/png": "[encoded data removed]",
      "text/plain": [
       "<Figure size 432x288 with 1 Axes>"
      ]
     },
     "metadata": {
      "needs_background": "light"
     },
     "output_type": "display_data"
    }
   ],
   "source": [
    "# Python3 program to implement traveling salesman \n",
    "# problem using naive approach. \n",
    "#from point import point\n",
    "from sys import maxsize \n",
    "from itertools import permutations\n",
    "import matplotlib.pyplot as pt\n",
    "#cities\n",
    "Ludhiana=(0,61,140,106,93)\n",
    "Jalandhar=(61,0,80,149,154)\n",
    "Amritsar=(140,80,0,229,235)\n",
    "Chandigar=(106,149,229,0,75)\n",
    "Patiala=(93,154,235,75,0)\n",
    "\n",
    "V = 5\n",
    " \n",
    "\n",
    "# implementation of traveling Salesman Problem \n",
    "def travellingSalesmanProblem(graph, s): \n",
    " \n",
    "    # store all vertex apart from source vertex \n",
    "    vertex = [] \n",
    "    for i in range(V): \n",
    "        if i != s: \n",
    "            vertex.append(i) \n",
    " \n",
    "    # store minimum weight Hamiltonian Cycle \n",
    "    min_path = maxsize \n",
    "    next_permutation=permutations(vertex)\n",
    "    for i in next_permutation:\n",
    " \n",
    "        # store current Path weight(cost) \n",
    "        current_pathweight = 0\n",
    " \n",
    "        # compute current path weight \n",
    "        k = s \n",
    "        for j in i: \n",
    "            current_pathweight += graph[k][j] \n",
    "            k = j \n",
    "        current_pathweight += graph[k][s] \n",
    " \n",
    "        # update minimum \n",
    "        min_path = min(min_path, current_pathweight) \n",
    "         \n",
    "    return min_path \n",
    "\n",
    "print('Shortest path between cities: ')\n",
    " \n",
    " \n",
    "if __name__ == \"__main__\": \n",
    " \n",
    "    # __matrix representation of graph__\n",
    "    graph = [[0, 61, 140, 106,93], [61,0,80,149,154], \n",
    "            [140,80,0,229,235], [106, 149, 229, 0,75],[93,154,235,75,0]] \n",
    "    s = 0\n",
    "    \n",
    "    print(travellingSalesmanProblem(graph, s))\n",
    " ## Graph implementation using matplotlib\n",
    "    pt.plot([0,61,140,106,93],[61,0,80,149,154],[140,800,229,0,75],[93,154,235,75,0],)\n",
    "    pt.title('Implementation of traveling Salesman Problem')"
   ]
  },
  {
   "cell_type": "code",
   "execution_count": null,
   "metadata": {},
   "outputs": [],
   "source": []
  }
 ],
 "metadata": {
  "kernelspec": {
   "display_name": "Python 3",
   "language": "python",
   "name": "python3"
  },
  "language_info": {
   "codemirror_mode": {
    "name": "ipython",
    "version": 3
   },
   "file_extension": ".py",
   "mimetype": "text/x-python",
   "name": "python",
   "nbconvert_exporter": "python",
   "pygments_lexer": "ipython3",
   "version": "3.8.3"
  }
 },
 "nbformat": 4,
 "nbformat_minor": 4
}
